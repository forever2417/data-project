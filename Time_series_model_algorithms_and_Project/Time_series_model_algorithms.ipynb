{
 "cells": [
  {
   "cell_type": "code",
   "execution_count": 4,
   "metadata": {},
   "outputs": [],
   "source": [
    "import numpy as np\n",
    "\n",
    "def ses(previous,data,a,ini):\n",
    "    \n",
    "    S=np.zeros(len(previous))\n",
    "    S[0]= ini\n",
    "    print('S0: {}'.format(S[0]))\n",
    "    for i in range(1,len(previous)):\n",
    "        S[i]= a*previous[i]+(1-a)*S[i-1]\n",
    "        print('S{}: {:.4f}'.format(i,S[i]))\n",
    "\n",
    "\n",
    "def linear_trend(X,Y):\n",
    "    print('mean of x: {:.4f}'.format(np.mean(X)))\n",
    "    print('mean of y: {:.4f}'.format(np.mean(Y)))\n",
    "    \n",
    "    print('mean of xy: {:.4f}'.format(np.mean(X*Y)))\n",
    "    print('mean of x^2: {:.4f}'.format(np.mean(X**2)))\n",
    "    \n",
    "    ph0 = (np.mean(Y)*np.mean(X*X) - np.mean(X)*np.mean(X*Y))/(np.mean(X*X)-np.mean(X)*np.mean(X))\n",
    "    ph1 = ((np.mean(X*Y)) -np.mean(X)*np.mean(Y))/(np.mean(X*X)-np.mean(X)*np.mean(X))\n",
    "    print('intercept: {:.6f}'.format(ph0))\n",
    "    print('slope: {:.6f}'.format(ph1))\n",
    "    \n",
    "def des(previous,target,rate,a_0,b_0,s_0,s2_0):\n",
    "    S=np.zeros(len(previous))\n",
    "    S2=np.zeros(len(previous))\n",
    "    a=np.zeros(len(previous))\n",
    "    b=np.zeros(len(previous))\n",
    "    xhat = np.zeros(len(previous))\n",
    "    \n",
    "    S[0]= s_0\n",
    "    S2[0] = s2_0\n",
    "    a[0] = a_0\n",
    "    b[0] = b_0\n",
    "    xhat[0] = a[0] + b[0]\n",
    "    \n",
    "    print('S0:',S[0])\n",
    "    print('S2_0:',S2[0])\n",
    "    print('a_0:',2*S[0]-S2[0])\n",
    "    print('b_0:',(S[0]-S2[0])*(rate/(1-rate)))\n",
    "    print('x_hat0:',2*S[0]-S2[0] + (S[0]-S2[0])*(rate/(1-rate)))\n",
    "    print('real_data_1:{:.4f}'.format(target[0]))\n",
    "    print()\n",
    "    \n",
    "    for i in range(1,len(previous)):\n",
    "        S[i]= rate*previous[i]+(1-rate)*S[i-1]\n",
    "        S2[i]= rate*S[i]+(1-rate)*S2[i-1]\n",
    "        a[i] = 2*S[i] - S2[i]\n",
    "        b[i] = (S[i]-S2[i])*(rate/(1-rate))\n",
    "        xhat[i-1] = a[i] + b[i]\n",
    "        \n",
    "        print('a_{}:{:.4f}'.format(i,a[i]))\n",
    "        print('b_{}:{:.4f}'.format(i,b[i]))\n",
    "        print('x_hat{}:{:.4f}'.format(i,xhat[i-1]))\n",
    "        print('real_data_{}:{:.4f}'.format(i+1,target[i]))\n",
    "        print()\n",
    "\n",
    "def holt_linear(previous,target,a0,b0,alpha,beta):\n",
    "    a=np.zeros(len(previous))\n",
    "    b=np.zeros(len(previous))\n",
    "    yhat = np.zeros(len(previous))\n",
    "    \n",
    "    a[0] = a0\n",
    "    b[0] = b0\n",
    "    yhat[0] = a0+b0\n",
    "    \n",
    "    print('a_0:',a0)\n",
    "    print('b_0:',b0)\n",
    "    print('X_hat1:',a0+b0)\n",
    "    print('real_data_0:',target[0])\n",
    "    print()\n",
    "    \n",
    "    for i in range(1,len(previous)):\n",
    "        a[i]= alpha*previous[i]+(1-alpha)*(a[i-1]+b[i-1])\n",
    "        b[i]= beta*(a[i]-a[i-1])+(1-beta)*b[i-1]\n",
    "        yhat[i-1] = a[i] + b[i]\n",
    "        \n",
    "        print('a_{}:{:.4f}'.format(i,a[i]))\n",
    "        print('b_{}:{:.4f}'.format(i,b[i]))\n",
    "        print('X_hat{}(predict):{:.4f}'.format(i+1,yhat[i-1]))\n",
    "        print('real_data_{}:{:.4f}'.format(i+1,target[i]))\n",
    "        print()\n",
    "\n",
    "def holt_multi(previous,target,a0,b0,alpha,beta):\n",
    "    a=np.zeros(len(previous))\n",
    "    b=np.zeros(len(previous))\n",
    "    yhat = np.zeros(len(previous))\n",
    "    \n",
    "    a[0] = a0\n",
    "    b[0] = b0\n",
    "    yhat[0] = a0*b0\n",
    "    \n",
    "    print('a_0',a0)\n",
    "    print('b_0',b0)\n",
    "    print('yhat_0:',a0*b0)\n",
    "    print('real_data_0:',target[0])\n",
    "    print()\n",
    "    \n",
    "    for i in range(1,len(previous)):\n",
    "        a[i]= alpha*previous[i]+(1-alpha)*(a[i-1]*b[i-1])\n",
    "        b[i]= beta*(a[i]/a[i-1])+(1-beta)*b[i-1]\n",
    "        yhat[i-1] = a[i]*b[i]\n",
    "        \n",
    "        print('a_{}:{:.4f}'.format(i,a[i]))\n",
    "        print('b_{}:{:.4f}'.format(i,b[i]))\n",
    "        print('y_hat{}(predict):{:.4f}'.format(i,yhat[i-1]))\n",
    "        print('real_data_{}:{:.4f}'.format(i+1,target[i]))\n",
    "        print()\n",
    "    \n",
    "\n",
    "def dw_test(e):\n",
    "    d = 0\n",
    "    for i in range(0,len(e)-1):\n",
    "        d = d + (e[i+1] - e[i])**2\n",
    "    d = d/sum(e**2)    \n",
    "    print(d)\n",
    "    \n",
    "def metrics(e):\n",
    "    print('error mean:',np.mean(e))\n",
    "    print(\"MSE:\",np.mean(e**2))\n",
    "    print(\"RMSE:\",np.sqrt(np.mean(e**2)))\n",
    "    print(\"MAE:\",np.mean(np.abs(e)))"
   ]
  },
  {
   "cell_type": "code",
   "execution_count": 2,
   "metadata": {},
   "outputs": [
    {
     "name": "stdout",
     "output_type": "stream",
     "text": [
      "error mean: -1.13\n",
      "MSE: 25.593\n",
      "RMSE: 5.058952460737301\n",
      "MAE: 4.11\n"
     ]
    }
   ],
   "source": [
    "error = np.array([-8.7,2.4,2.6,8.4,-4.1,-1.5,-4.2,0.6,-7.7,0.9])\n",
    "metrics(error)"
   ]
  },
  {
   "cell_type": "code",
   "execution_count": 28,
   "metadata": {},
   "outputs": [
    {
     "name": "stdout",
     "output_type": "stream",
     "text": [
      "1.0485310231817502\n"
     ]
    }
   ],
   "source": [
    "e = np.array([64.14,109.86,-44.43,-205.71,-85,30.71,130.43])\n",
    "dw_test(e)"
   ]
  },
  {
   "cell_type": "code",
   "execution_count": 5,
   "metadata": {},
   "outputs": [
    {
     "name": "stdout",
     "output_type": "stream",
     "text": [
      "a_0 17.55\n",
      "b_0 1.2455840455840455\n",
      "yhat_0: 21.86\n",
      "real_data_0: 17.55\n",
      "\n",
      "a_1:18.4120\n",
      "b_1:1.2063\n",
      "y_hat1(predict):22.2102\n",
      "real_data_2:21.8600\n",
      "\n",
      "a_2:21.9300\n",
      "b_2:1.2032\n",
      "y_hat2(predict):26.3873\n",
      "real_data_3:23.8900\n",
      "\n",
      "a_3:24.3895\n",
      "b_3:1.1850\n",
      "y_hat3(predict):28.9022\n",
      "real_data_4:26.9300\n",
      "\n",
      "a_4:27.3244\n",
      "b_4:1.1721\n",
      "y_hat4(predict):32.0267\n",
      "real_data_5:26.8900\n",
      "\n",
      "a_5:27.9173\n",
      "b_5:1.1420\n",
      "y_hat5(predict):31.8819\n",
      "real_data_6:28.8300\n",
      "\n"
     ]
    }
   ],
   "source": [
    "previous = np.array([0,17.55,21.86,23.89,26.93,26.89])\n",
    "target = np.array([17.55,21.86,23.89,26.93,26.89,28.83])\n",
    "\n",
    "a0 = 17.55\n",
    "b0 = 21.86/17.55\n",
    "alpha = 0.8\n",
    "beta = 0.2\n",
    "holt_multi(previous,target,a0,b0,alpha,beta)"
   ]
  },
  {
   "cell_type": "code",
   "execution_count": 6,
   "metadata": {},
   "outputs": [
    {
     "name": "stdout",
     "output_type": "stream",
     "text": [
      "a_0: 502.286\n",
      "b_0: 105.643\n",
      "X_hat1: 607.929\n",
      "real_data_0: 676\n",
      "\n",
      "a_1:621.5432\n",
      "b_1:107.0044\n",
      "X_hat2(predict):728.5476\n",
      "real_data_2:825.0000\n",
      "\n",
      "a_2:747.8381\n",
      "b_2:108.9335\n",
      "X_hat3(predict):856.7716\n",
      "real_data_3:774.0000\n",
      "\n",
      "a_3:840.2173\n",
      "b_3:107.2780\n",
      "X_hat4(predict):947.4953\n",
      "real_data_4:716.0000\n",
      "\n",
      "a_4:901.1962\n",
      "b_4:102.6481\n",
      "X_hat5(predict):1003.8444\n",
      "real_data_5:940.0000\n",
      "\n",
      "a_5:991.0755\n",
      "b_5:101.3712\n",
      "X_hat6(predict):1092.4467\n",
      "real_data_6:1159.0000\n",
      "\n",
      "a_6:1105.7574\n",
      "b_6:102.7023\n",
      "X_hat7(predict):1208.4597\n",
      "real_data_7:1362.0000\n",
      "\n"
     ]
    }
   ],
   "source": [
    "previous = np.array([0,676,825,774,716,940,1159])\n",
    "target = np.array([676,825,774,716,940,1159,1362])\n",
    "a0 = 502.286\n",
    "b0 = 105.643\n",
    "alpha = 0.2\n",
    "beta = 0.1\n",
    "\n",
    "holt_linear(previous,target,a0,b0,alpha,beta)"
   ]
  },
  {
   "cell_type": "code",
   "execution_count": 7,
   "metadata": {},
   "outputs": [
    {
     "name": "stdout",
     "output_type": "stream",
     "text": [
      "mean of x: 5.0000\n",
      "mean of y: 29.0000\n",
      "mean of xy: 163.8889\n",
      "mean of x^2: 31.6667\n",
      "intercept: 14.833333\n",
      "slope: 2.833333\n"
     ]
    }
   ],
   "source": [
    "X = np.array([1,2,3,4,5,6,7,8,9])\n",
    "Y = np.array([16,21,27,25,31,29,32,37,43])\n",
    "\n",
    "linear_trend(X,Y)\n"
   ]
  },
  {
   "cell_type": "code",
   "execution_count": 20,
   "metadata": {},
   "outputs": [
    {
     "name": "stdout",
     "output_type": "stream",
     "text": [
      "S0: -34.0\n",
      "S2_0: -88.0\n",
      "a_0: 20.0\n",
      "b_0: 6.0\n",
      "x_hat0: 26.0\n",
      "real_data_1:16.0000\n",
      "\n",
      "a_1:24.1000\n",
      "b_1:5.9000\n",
      "x_hat1:30.0000\n",
      "real_data_2:21.0000\n",
      "\n",
      "a_2:28.2900\n",
      "b_2:5.8100\n",
      "x_hat2:34.1000\n",
      "real_data_3:27.0000\n",
      "\n",
      "a_3:32.7510\n",
      "b_3:5.7390\n",
      "x_hat3:38.4900\n",
      "real_data_4:25.0000\n",
      "\n",
      "a_4:35.9269\n",
      "b_4:5.6041\n",
      "x_hat4:41.5310\n",
      "real_data_5:29.0000\n",
      "\n",
      "a_5:39.1501\n",
      "b_5:5.4788\n",
      "x_hat5:44.6289\n",
      "real_data_6:27.0000\n",
      "\n",
      "a_6:41.2794\n",
      "b_6:5.3025\n",
      "x_hat6:46.5819\n",
      "real_data_7:32.0000\n",
      "\n",
      "a_7:43.8113\n",
      "b_7:5.1567\n",
      "x_hat7:48.9680\n",
      "real_data_8:36.0000\n",
      "\n",
      "a_8:46.5041\n",
      "b_8:5.0270\n",
      "x_hat8:51.5311\n",
      "real_data_9:40.0000\n",
      "\n"
     ]
    }
   ],
   "source": [
    "previous = np.array([0,16,21,27,25,29,27,32,36])\n",
    "target = np.array([16,21,27,25,29,27,32,36,40])\n",
    "\n",
    "rate = 0.1\n",
    "a_0 = 20\n",
    "b_0 = 6\n",
    "s_0 =  -34\n",
    "s2_0 = -88\n",
    "\n",
    "des(previous,target,rate,a_0,b_0,s_0,s2_0)"
   ]
  },
  {
   "cell_type": "code",
   "execution_count": 8,
   "metadata": {},
   "outputs": [
    {
     "name": "stdout",
     "output_type": "stream",
     "text": [
      "S0: 16.0\n",
      "S1: 16.0000\n",
      "S2: 16.5000\n",
      "S3: 17.5500\n",
      "S4: 18.2950\n",
      "S5: 19.5655\n",
      "S6: 20.5090\n",
      "S7: 21.6581\n",
      "S8: 23.1922\n"
     ]
    }
   ],
   "source": [
    "previous = np.array([0,16,21,27,25,31,29,32,37])\n",
    "data = np.array([16,21,27,25,31,29,32,37,43])\n",
    "ini_ses = 16\n",
    "a = 0.1\n",
    "ses(previous,data,a,ini_ses)\n"
   ]
  }
 ],
 "metadata": {
  "kernelspec": {
   "display_name": "Python 3",
   "language": "python",
   "name": "python3"
  },
  "language_info": {
   "codemirror_mode": {
    "name": "ipython",
    "version": 3
   },
   "file_extension": ".py",
   "mimetype": "text/x-python",
   "name": "python",
   "nbconvert_exporter": "python",
   "pygments_lexer": "ipython3",
   "version": "3.8.5"
  }
 },
 "nbformat": 4,
 "nbformat_minor": 4
}
